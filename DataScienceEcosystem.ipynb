{
 "cells": [
  {
   "cell_type": "markdown",
   "id": "6a09642f",
   "metadata": {},
   "source": [
    "# Data Science Tools and Ecosystem"
   ]
  },
  {
   "cell_type": "markdown",
   "id": "7d2d55eb",
   "metadata": {},
   "source": [
    "In this Notebook, Data Science Tools and Ecosystem are summarized."
   ]
  },
  {
   "cell_type": "markdown",
   "id": "9d4502cd",
   "metadata": {},
   "source": [
    "**Objectives**\n",
    "  - List popular languages for Data Science\n",
    "  - List some of popular libraries used by Data Scientists\n",
    "  - List popular Data Science tools and compare their major features"
   ]
  },
  {
   "cell_type": "markdown",
   "id": "7f705616",
   "metadata": {},
   "source": [
    "Some of the popular languages that Data Scientists use are:\n",
    "  1. SQL\n",
    "  2. Python\n",
    "  3. R\n",
    "  4. Scala\n",
    "  5. Java\n",
    "  6. Javascript\n",
    "  7. C<sup>++</sup>\n",
    "  8. Julia"
   ]
  },
  {
   "cell_type": "markdown",
   "id": "b03dd88b",
   "metadata": {},
   "source": [
    "Some of the commonly used libraries used by Data Scientists include:\n",
    "  1. Pandas\n",
    "  2. Numpy\n",
    "  3. Matplotlib"
   ]
  },
  {
   "cell_type": "markdown",
   "id": "fe20842a",
   "metadata": {},
   "source": [
    "\n",
    "|**Data Science Tools**|\n",
    "|:---:|\n",
    "|Jupiter lab|\n",
    "|Rstudio|\n",
    "|Apache Spark|"
   ]
  },
  {
   "cell_type": "markdown",
   "id": "22d45e67",
   "metadata": {},
   "source": [
    "### Below are a few examples of evaluating arithmetic expressions in Python"
   ]
  },
  {
   "cell_type": "code",
   "execution_count": 23,
   "id": "a7bc6db4",
   "metadata": {},
   "outputs": [
    {
     "data": {
      "text/plain": [
       "17"
      ]
     },
     "execution_count": 23,
     "metadata": {},
     "output_type": "execute_result"
    }
   ],
   "source": [
    "# This is a simple arithmetic expression to mutiply then add integers:\n",
    "(3*4)+5"
   ]
  },
  {
   "cell_type": "code",
   "execution_count": 1,
   "id": "dd9c80b4",
   "metadata": {
    "scrolled": true
   },
   "outputs": [
    {
     "name": "stdout",
     "output_type": "stream",
     "text": [
      "200 minutes = 3.33 hours\n"
     ]
    }
   ],
   "source": [
    "# This will convert 200 minutes to hours by dividing by 60:\n",
    "\n",
    "m = 200\n",
    "print (m, 'minutes =', \"%.2f\" %(m/60),'hours')"
   ]
  },
  {
   "cell_type": "markdown",
   "id": "11f4c36a",
   "metadata": {},
   "source": [
    " ## Author\n",
    " Kourosh Shahverdiani"
   ]
  }
 ],
 "metadata": {
  "kernelspec": {
   "display_name": "Python 3 (ipykernel)",
   "language": "python",
   "name": "python3"
  },
  "language_info": {
   "codemirror_mode": {
    "name": "ipython",
    "version": 3
   },
   "file_extension": ".py",
   "mimetype": "text/x-python",
   "name": "python",
   "nbconvert_exporter": "python",
   "pygments_lexer": "ipython3",
   "version": "3.9.16"
  }
 },
 "nbformat": 4,
 "nbformat_minor": 5
}
